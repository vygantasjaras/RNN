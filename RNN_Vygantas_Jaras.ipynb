{
 "cells": [
  {
   "cell_type": "markdown",
   "metadata": {},
   "source": [
    "# Recurrent Neural Networks\n",
    "\n",
    "### Practical Session\n",
    "\n",
    "<br/> Prof. Dr. Georgios K. Ouzounis\n",
    "<br/> email: georgios.ouzounis@go.kauko.lt\n",
    "\n",
    "<br/> Student: Vygantas Jaras\n",
    "<br/> email: vygantas.ja9484@go.kauko.lt"
   ]
  },
  {
   "cell_type": "markdown",
   "metadata": {},
   "source": [
    "## Contents\n",
    "\n",
    "1. Data loading and pre-processing\n",
    "2. Building the RNN\n",
    "3. Train and deploy the RNN\n",
    "4. Improving the RNN"
   ]
  },
  {
   "cell_type": "markdown",
   "metadata": {},
   "source": [
    "## Challenge"
   ]
  },
  {
   "cell_type": "markdown",
   "metadata": {},
   "source": [
    "<img src=\"https://www.sapientrade.com/images/2017/02/14/AI-Machine-Learning-Trading-Benefits.jpg\" width=\"800\" align=\"left\"/>"
   ]
  },
  {
   "cell_type": "markdown",
   "metadata": {},
   "source": [
    "Given a 10-year history of the Intel Stock prices predict the stock values for the period of the recent most month that are not included in the historical data."
   ]
  },
  {
   "cell_type": "markdown",
   "metadata": {},
   "source": [
    "## Data loading and pre-processing"
   ]
  },
  {
   "cell_type": "markdown",
   "metadata": {},
   "source": [
    "### Download the data-sets\n",
    "\n",
    "The data-sets are two comma-separated values files (CSV) and contain a data table of 2538 records for training and a table of 22 records for testing.\n",
    "\n",
    "These data-sets were downloaded from yahoo finances\n",
    "\n",
    "**Intel_Stock_Price_Test.csv** and **Intel_Stock_Price_Train.csv**\n",
    "\n",
    "\n",
    "\n",
    "Open a terminal and use the wget command to get it of the selected location. Example:\n",
    "\n",
    "```shell\n",
    "wget https://raw.githubusercontent.com/vygantasjaras/RNN/main/Intel_Stock_Price_Test.csv\n",
    "\n",
    "wget https://raw.githubusercontent.com/vygantasjaras/RNN/main/Intel_Stock_Price_Train.csv \n",
    "```\n"
   ]
  },
  {
   "cell_type": "markdown",
   "metadata": {},
   "source": [
    "### Import libraries\n",
    "\n",
    "We need 3 main libraries:\n",
    "\n",
    "- [Numpy](http://www.numpy.org): it is the fundamental package for scientific computing with Python. It contains among other things a powerful N-dimensional array object that can be used as an efficient multi-dimensional container of generic data. Arbitrary data-types can be defined.\n",
    "- [matplotlib](https://matplotlib.org):  it is a Python 2D plotting library which produces publication quality figures in a variety of hardcopy formats and interactive environments across platforms.\n",
    "- [pandas](https://pandas.pydata.org): is a software library written for the Python programming language for data manipulation and analysis. In particular, it offers data structures and operations for manipulating numerical tables and time series."
   ]
  },
  {
   "cell_type": "code",
   "execution_count": 30,
   "metadata": {},
   "outputs": [],
   "source": [
    "# importing the libraries\n",
    "import numpy as np\n",
    "import matplotlib.pyplot as plt\n",
    "import pandas as pd"
   ]
  },
  {
   "cell_type": "markdown",
   "metadata": {},
   "source": [
    "### Import the dataset"
   ]
  },
  {
   "cell_type": "markdown",
   "metadata": {},
   "source": [
    "Dataset description: the open high, low and close values of the Google Stock from 2012 to 2016. [Relevant code here](https://github.com/pdway53/Predict_Google_Stock_Price_RNN)\n"
   ]
  },
  {
   "cell_type": "code",
   "execution_count": 31,
   "metadata": {},
   "outputs": [],
   "source": [
    "#importing the dataset\n",
    "\n",
    "# load the file contents \n",
    "dataset_train = pd.read_csv('Intel_Stock_Price_Train.csv')"
   ]
  },
  {
   "cell_type": "code",
   "execution_count": 32,
   "metadata": {},
   "outputs": [
    {
     "data": {
      "text/html": [
       "<div>\n",
       "<style scoped>\n",
       "    .dataframe tbody tr th:only-of-type {\n",
       "        vertical-align: middle;\n",
       "    }\n",
       "\n",
       "    .dataframe tbody tr th {\n",
       "        vertical-align: top;\n",
       "    }\n",
       "\n",
       "    .dataframe thead th {\n",
       "        text-align: right;\n",
       "    }\n",
       "</style>\n",
       "<table border=\"1\" class=\"dataframe\">\n",
       "  <thead>\n",
       "    <tr style=\"text-align: right;\">\n",
       "      <th></th>\n",
       "      <th>Date</th>\n",
       "      <th>Open</th>\n",
       "      <th>High</th>\n",
       "      <th>Low</th>\n",
       "      <th>Close</th>\n",
       "      <th>Adj Close</th>\n",
       "      <th>Volume</th>\n",
       "    </tr>\n",
       "  </thead>\n",
       "  <tbody>\n",
       "    <tr>\n",
       "      <th>0</th>\n",
       "      <td>2009-07-31</td>\n",
       "      <td>19.340000</td>\n",
       "      <td>19.559999</td>\n",
       "      <td>19.250000</td>\n",
       "      <td>19.250000</td>\n",
       "      <td>13.682571</td>\n",
       "      <td>47557600</td>\n",
       "    </tr>\n",
       "    <tr>\n",
       "      <th>1</th>\n",
       "      <td>2009-08-03</td>\n",
       "      <td>19.480000</td>\n",
       "      <td>19.559999</td>\n",
       "      <td>19.180000</td>\n",
       "      <td>19.370001</td>\n",
       "      <td>13.767866</td>\n",
       "      <td>44330800</td>\n",
       "    </tr>\n",
       "    <tr>\n",
       "      <th>2</th>\n",
       "      <td>2009-08-04</td>\n",
       "      <td>19.209999</td>\n",
       "      <td>19.379999</td>\n",
       "      <td>19.150000</td>\n",
       "      <td>19.320000</td>\n",
       "      <td>13.732331</td>\n",
       "      <td>46880800</td>\n",
       "    </tr>\n",
       "    <tr>\n",
       "      <th>3</th>\n",
       "      <td>2009-08-05</td>\n",
       "      <td>19.270000</td>\n",
       "      <td>19.299999</td>\n",
       "      <td>18.860001</td>\n",
       "      <td>18.860001</td>\n",
       "      <td>13.503215</td>\n",
       "      <td>60035000</td>\n",
       "    </tr>\n",
       "    <tr>\n",
       "      <th>4</th>\n",
       "      <td>2009-08-06</td>\n",
       "      <td>18.930000</td>\n",
       "      <td>19.180000</td>\n",
       "      <td>18.559999</td>\n",
       "      <td>18.700001</td>\n",
       "      <td>13.388664</td>\n",
       "      <td>66862100</td>\n",
       "    </tr>\n",
       "  </tbody>\n",
       "</table>\n",
       "</div>"
      ],
      "text/plain": [
       "         Date       Open       High        Low      Close  Adj Close    Volume\n",
       "0  2009-07-31  19.340000  19.559999  19.250000  19.250000  13.682571  47557600\n",
       "1  2009-08-03  19.480000  19.559999  19.180000  19.370001  13.767866  44330800\n",
       "2  2009-08-04  19.209999  19.379999  19.150000  19.320000  13.732331  46880800\n",
       "3  2009-08-05  19.270000  19.299999  18.860001  18.860001  13.503215  60035000\n",
       "4  2009-08-06  18.930000  19.180000  18.559999  18.700001  13.388664  66862100"
      ]
     },
     "execution_count": 32,
     "metadata": {},
     "output_type": "execute_result"
    }
   ],
   "source": [
    "dataset_train.head()"
   ]
  },
  {
   "cell_type": "code",
   "execution_count": 33,
   "metadata": {},
   "outputs": [],
   "source": [
    "# Create a subtable of relevant entries (open values)\n",
    "# The .values makes this vector a numpy array\n",
    "training_set = dataset_train.iloc[:, 1:2].values "
   ]
  },
  {
   "cell_type": "code",
   "execution_count": 34,
   "metadata": {},
   "outputs": [
    {
     "data": {
      "text/plain": [
       "array([[19.34    ],\n",
       "       [19.48    ],\n",
       "       [19.209999],\n",
       "       ...,\n",
       "       [52.689999],\n",
       "       [51.529999],\n",
       "       [51.709999]])"
      ]
     },
     "execution_count": 34,
     "metadata": {},
     "output_type": "execute_result"
    }
   ],
   "source": [
    "training_set"
   ]
  },
  {
   "cell_type": "markdown",
   "metadata": {},
   "source": [
    "### Feature Scaling\n",
    "\n",
    "Next we need to rescale our data to the range from 0 to 1. "
   ]
  },
  {
   "cell_type": "code",
   "execution_count": 35,
   "metadata": {},
   "outputs": [],
   "source": [
    "# Feature Scaling\n",
    "\n",
    "# import the MinMaxScaler\n",
    "from sklearn.preprocessing import MinMaxScaler"
   ]
  },
  {
   "cell_type": "code",
   "execution_count": 36,
   "metadata": {},
   "outputs": [],
   "source": [
    "# create a scaler instance to rescale all data to the range of 0.0 to 1.0 \n",
    "sc = MinMaxScaler(feature_range = (0, 1))"
   ]
  },
  {
   "cell_type": "code",
   "execution_count": 37,
   "metadata": {},
   "outputs": [],
   "source": [
    "# create the actual training set of scaled values\n",
    "training_set_scaled = sc.fit_transform(training_set)"
   ]
  },
  {
   "cell_type": "code",
   "execution_count": 38,
   "metadata": {},
   "outputs": [
    {
     "data": {
      "text/plain": [
       "array([[0.0356011 ],\n",
       "       [0.0390149 ],\n",
       "       [0.03243111],\n",
       "       ...,\n",
       "       [0.84881736],\n",
       "       [0.82053158],\n",
       "       [0.82492075]])"
      ]
     },
     "execution_count": 38,
     "metadata": {},
     "output_type": "execute_result"
    }
   ],
   "source": [
    "training_set_scaled"
   ]
  },
  {
   "cell_type": "markdown",
   "metadata": {},
   "source": [
    "### Splitting the training set to dependent and independent variables"
   ]
  },
  {
   "cell_type": "code",
   "execution_count": 39,
   "metadata": {},
   "outputs": [],
   "source": [
    "# Creating a data structure with 90 timesteps and 1 output\n",
    "\n",
    "# the 90 stock prices in the last 3 months before today\n",
    "X_train = [] "
   ]
  },
  {
   "cell_type": "code",
   "execution_count": 40,
   "metadata": {},
   "outputs": [
    {
     "data": {
      "text/plain": [
       "(2516, 1)"
      ]
     },
     "execution_count": 40,
     "metadata": {},
     "output_type": "execute_result"
    }
   ],
   "source": [
    "training_set_scaled.shape"
   ]
  },
  {
   "cell_type": "code",
   "execution_count": 41,
   "metadata": {},
   "outputs": [],
   "source": [
    "# the stock price today\n",
    "y_train = [] "
   ]
  },
  {
   "cell_type": "code",
   "execution_count": 42,
   "metadata": {},
   "outputs": [],
   "source": [
    "# we start from day 90 because that is the first instance allowing us to \n",
    "# go back 90 days\n",
    "for i in range(90, 2516): \n",
    "    # 0 is the column ID, the only column in this case.    \n",
    "    # put the last 90 days values in one row of X_train\n",
    "    X_train.append(training_set_scaled[i-90:i, 0]) \n",
    "    y_train.append(training_set_scaled[i, 0])\n"
   ]
  },
  {
   "cell_type": "code",
   "execution_count": 43,
   "metadata": {},
   "outputs": [],
   "source": [
    "X_train, y_train = np.array(X_train), np.array(y_train)"
   ]
  },
  {
   "cell_type": "code",
   "execution_count": 44,
   "metadata": {},
   "outputs": [
    {
     "data": {
      "text/plain": [
       "array([[0.0356011 , 0.0390149 , 0.03243111, ..., 0.0458425 , 0.05632777,\n",
       "        0.05681541],\n",
       "       [0.0390149 , 0.03243111, 0.0338942 , ..., 0.05632777, 0.05681541,\n",
       "        0.05779081],\n",
       "       [0.03243111, 0.0338942 , 0.02560354, ..., 0.05681541, 0.05779081,\n",
       "        0.05145089],\n",
       "       ...,\n",
       "       [0.89222146, 0.8822239 , 0.87881002, ..., 0.83199222, 0.83150454,\n",
       "        0.84442816],\n",
       "       [0.8822239 , 0.87881002, 0.89051458, ..., 0.83150454, 0.84442816,\n",
       "        0.84881736],\n",
       "       [0.87881002, 0.89051458, 0.85564501, ..., 0.84442816, 0.84881736,\n",
       "        0.82053158]])"
      ]
     },
     "execution_count": 44,
     "metadata": {},
     "output_type": "execute_result"
    }
   ],
   "source": [
    "X_train"
   ]
  },
  {
   "cell_type": "markdown",
   "metadata": {},
   "source": [
    "### Reshaping the Matrix\n",
    "\n",
    "We need to add a new matrix dimension to accommodate the indicator (predictor). \n"
   ]
  },
  {
   "cell_type": "markdown",
   "metadata": {},
   "source": [
    "If we were to add the stock value of somebody else together with the the past 60 days of Google, we need to change the length of the 3 dimension to  2.  RNN training tables are 3D!!! Read: [Reshaping NumPy Array | Numpy Array Reshape Examples](https://backtobazics.com/python/python-reshaping-numpy-array-examples/)"
   ]
  },
  {
   "cell_type": "code",
   "execution_count": 45,
   "metadata": {},
   "outputs": [],
   "source": [
    "# Reshaping the data matrix, we retain the 2 original dimensions and add a third of depth=1\n",
    "X_train = np.reshape(X_train, (X_train.shape[0], X_train.shape[1], 1))"
   ]
  },
  {
   "cell_type": "markdown",
   "metadata": {},
   "source": [
    "## Building the RNN"
   ]
  },
  {
   "cell_type": "markdown",
   "metadata": {},
   "source": [
    "### RNN initialization\n",
    "\n",
    "- Import the sequential model from the Keras API;\n",
    "- Import the Dense layer template from the Keras API;\n",
    "- Import the LSTM model from the Keras API\n",
    "- Create an instance of the sequential model called regressor because we want to predict a continuous value"
   ]
  },
  {
   "cell_type": "code",
   "execution_count": 46,
   "metadata": {},
   "outputs": [],
   "source": [
    "# Importing the Keras libraries and packages\n",
    "from keras.models import Sequential\n",
    "from keras.layers import Dense\n",
    "from keras.layers import LSTM\n",
    "from keras.layers import Dropout"
   ]
  },
  {
   "cell_type": "code",
   "execution_count": 47,
   "metadata": {},
   "outputs": [],
   "source": [
    "# Initialising the RNN as a sequence of layers\n",
    "regressor = Sequential()"
   ]
  },
  {
   "cell_type": "markdown",
   "metadata": {},
   "source": [
    "### Add First Layer\n",
    "\n",
    "We first add an object of the LSTM class! \n",
    "\n",
    "- The first argument is the number of units or LSTM memory cells. Include many neurons to address the high dimensionality of the problem; say 50 neurons! \n",
    "- Second arg: return sequences = true; stacked LSTM !\n",
    "- Third arg: input 3D shape: observations vs time steps vs number of indicators"
   ]
  },
  {
   "cell_type": "code",
   "execution_count": 48,
   "metadata": {},
   "outputs": [],
   "source": [
    "# Adding the input layer and the LSTM layer\n",
    "regressor.add(LSTM(units = 50, return_sequences = True, input_shape =  (X_train.shape[1], 1)))"
   ]
  },
  {
   "cell_type": "code",
   "execution_count": 49,
   "metadata": {},
   "outputs": [],
   "source": [
    "# the argument is the dropout rate to ignore in the layers (20%), \n",
    "# i.e. 50 units * 20% = 10 units will be dropped each time\n",
    "regressor.add(Dropout(0.2))\n"
   ]
  },
  {
   "cell_type": "markdown",
   "metadata": {},
   "source": [
    "### Add More Layers\n",
    "\n",
    "We can add more LSTM layers but along with Dropout regularization to make sure we avoid overfitting! \n",
    "\n",
    "We don’t need to add the shape of the layer again because it is recognized automatically from the number of input units.\n",
    "\n",
    "The last layer does not return a sequence but connected directly to a fully connected output layer.\n"
   ]
  },
  {
   "cell_type": "code",
   "execution_count": 50,
   "metadata": {},
   "outputs": [],
   "source": [
    "# Adding a second LSTM layer and some Dropout regularisation\n",
    "regressor.add(LSTM(units = 50, return_sequences = True))\n",
    "regressor.add(Dropout(0.2))"
   ]
  },
  {
   "cell_type": "code",
   "execution_count": 51,
   "metadata": {},
   "outputs": [],
   "source": [
    "# Adding a third LSTM layer and some Dropout regularisation\n",
    "regressor.add(LSTM(units = 50, return_sequences = True))\n",
    "regressor.add(Dropout(0.2))"
   ]
  },
  {
   "cell_type": "code",
   "execution_count": 52,
   "metadata": {},
   "outputs": [],
   "source": [
    "# Adding a fourth LSTM layer and some Dropout regularisation\n",
    "# we removed the return_sequences because we no longer return a \n",
    "# sequence but a value instead\n",
    "regressor.add(LSTM(units = 50))\n",
    "regressor.add(Dropout(0.2))"
   ]
  },
  {
   "cell_type": "markdown",
   "metadata": {},
   "source": [
    "### Add Output Layer & Compile\n",
    "\n",
    "The output has 1 dimension , i.e. one value to be predicted thus or output fully connected layer has dimensionality = 1.\n",
    "\n",
    "- **Optimizer**: rmsprop is recommended in the Keras documentation. The Adam optimizer is also a powerful choice.\n",
    "- **Loss function**: regression problems take the mean square error as most common"
   ]
  },
  {
   "cell_type": "code",
   "execution_count": 53,
   "metadata": {},
   "outputs": [],
   "source": [
    "# Adding the output layer\n",
    "regressor.add(Dense(units = 1))"
   ]
  },
  {
   "cell_type": "code",
   "execution_count": 54,
   "metadata": {},
   "outputs": [],
   "source": [
    "# Compiling the RNN\n",
    "regressor.compile(optimizer = 'adam', loss = 'mean_squared_error')"
   ]
  },
  {
   "cell_type": "markdown",
   "metadata": {},
   "source": [
    "## Train and deploy the RNN"
   ]
  },
  {
   "cell_type": "code",
   "execution_count": 55,
   "metadata": {},
   "outputs": [
    {
     "name": "stdout",
     "output_type": "stream",
     "text": [
      "Epoch 1/100\n",
      "76/76 [==============================] - 15s 197ms/step - loss: 0.0120\n",
      "Epoch 2/100\n",
      "76/76 [==============================] - 15s 191ms/step - loss: 0.0035\n",
      "Epoch 3/100\n",
      "76/76 [==============================] - 14s 189ms/step - loss: 0.0034\n",
      "Epoch 4/100\n",
      "76/76 [==============================] - 14s 187ms/step - loss: 0.0034\n",
      "Epoch 5/100\n",
      "76/76 [==============================] - 14s 187ms/step - loss: 0.0030\n",
      "Epoch 6/100\n",
      "76/76 [==============================] - 17s 228ms/step - loss: 0.0028\n",
      "Epoch 7/100\n",
      "76/76 [==============================] - 17s 222ms/step - loss: 0.0028\n",
      "Epoch 8/100\n",
      "76/76 [==============================] - 16s 214ms/step - loss: 0.0022\n",
      "Epoch 9/100\n",
      "76/76 [==============================] - 17s 221ms/step - loss: 0.0024\n",
      "Epoch 10/100\n",
      "76/76 [==============================] - 16s 213ms/step - loss: 0.0023\n",
      "Epoch 11/100\n",
      "76/76 [==============================] - 16s 213ms/step - loss: 0.0023\n",
      "Epoch 12/100\n",
      "76/76 [==============================] - 16s 212ms/step - loss: 0.0020\n",
      "Epoch 13/100\n",
      "76/76 [==============================] - 17s 225ms/step - loss: 0.0019\n",
      "Epoch 14/100\n",
      "76/76 [==============================] - 17s 228ms/step - loss: 0.0019\n",
      "Epoch 15/100\n",
      "76/76 [==============================] - 16s 214ms/step - loss: 0.0019\n",
      "Epoch 16/100\n",
      "76/76 [==============================] - 17s 225ms/step - loss: 0.0017\n",
      "Epoch 17/100\n",
      "76/76 [==============================] - 17s 220ms/step - loss: 0.0017\n",
      "Epoch 18/100\n",
      "76/76 [==============================] - 18s 236ms/step - loss: 0.0016\n",
      "Epoch 19/100\n",
      "76/76 [==============================] - 15s 193ms/step - loss: 0.0016\n",
      "Epoch 20/100\n",
      "76/76 [==============================] - 14s 191ms/step - loss: 0.0017\n",
      "Epoch 21/100\n",
      "76/76 [==============================] - 14s 185ms/step - loss: 0.0016\n",
      "Epoch 22/100\n",
      "76/76 [==============================] - 13s 177ms/step - loss: 0.0016\n",
      "Epoch 23/100\n",
      "76/76 [==============================] - 14s 181ms/step - loss: 0.0015\n",
      "Epoch 24/100\n",
      "76/76 [==============================] - 14s 187ms/step - loss: 0.0014\n",
      "Epoch 25/100\n",
      "76/76 [==============================] - 15s 204ms/step - loss: 0.0014\n",
      "Epoch 26/100\n",
      "76/76 [==============================] - 14s 187ms/step - loss: 0.0014\n",
      "Epoch 27/100\n",
      "76/76 [==============================] - 14s 186ms/step - loss: 0.0014\n",
      "Epoch 28/100\n",
      "76/76 [==============================] - 14s 190ms/step - loss: 0.0014\n",
      "Epoch 29/100\n",
      "76/76 [==============================] - 16s 214ms/step - loss: 0.0013\n",
      "Epoch 30/100\n",
      "76/76 [==============================] - 16s 211ms/step - loss: 0.0012\n",
      "Epoch 31/100\n",
      "76/76 [==============================] - 15s 196ms/step - loss: 0.0012\n",
      "Epoch 32/100\n",
      "76/76 [==============================] - 15s 196ms/step - loss: 0.0012\n",
      "Epoch 33/100\n",
      "76/76 [==============================] - 15s 202ms/step - loss: 0.0013\n",
      "Epoch 34/100\n",
      "76/76 [==============================] - 15s 200ms/step - loss: 0.0012\n",
      "Epoch 35/100\n",
      "76/76 [==============================] - 14s 185ms/step - loss: 0.0013\n",
      "Epoch 36/100\n",
      "76/76 [==============================] - 13s 176ms/step - loss: 0.0011\n",
      "Epoch 37/100\n",
      "76/76 [==============================] - 13s 175ms/step - loss: 0.0012\n",
      "Epoch 38/100\n",
      "76/76 [==============================] - 13s 174ms/step - loss: 0.0010\n",
      "Epoch 39/100\n",
      "76/76 [==============================] - 13s 176ms/step - loss: 0.0011\n",
      "Epoch 40/100\n",
      "76/76 [==============================] - 13s 176ms/step - loss: 0.0014\n",
      "Epoch 41/100\n",
      "76/76 [==============================] - 13s 175ms/step - loss: 0.0012\n",
      "Epoch 42/100\n",
      "76/76 [==============================] - 13s 174ms/step - loss: 0.0011\n",
      "Epoch 43/100\n",
      "76/76 [==============================] - 13s 174ms/step - loss: 0.0011\n",
      "Epoch 44/100\n",
      "76/76 [==============================] - 14s 178ms/step - loss: 0.0011\n",
      "Epoch 45/100\n",
      "76/76 [==============================] - 13s 175ms/step - loss: 0.0011\n",
      "Epoch 46/100\n",
      "76/76 [==============================] - 13s 174ms/step - loss: 9.6856e-04\n",
      "Epoch 47/100\n",
      "76/76 [==============================] - 13s 174ms/step - loss: 0.0010\n",
      "Epoch 48/100\n",
      "76/76 [==============================] - 13s 174ms/step - loss: 0.0012\n",
      "Epoch 49/100\n",
      "76/76 [==============================] - 13s 174ms/step - loss: 0.0012\n",
      "Epoch 50/100\n",
      "76/76 [==============================] - 13s 174ms/step - loss: 9.2393e-04\n",
      "Epoch 51/100\n",
      "76/76 [==============================] - 13s 173ms/step - loss: 0.0010\n",
      "Epoch 52/100\n",
      "76/76 [==============================] - 13s 175ms/step - loss: 8.5225e-04\n",
      "Epoch 53/100\n",
      "76/76 [==============================] - 13s 170ms/step - loss: 9.7194e-04\n",
      "Epoch 54/100\n",
      "76/76 [==============================] - 13s 169ms/step - loss: 9.4718e-04\n",
      "Epoch 55/100\n",
      "76/76 [==============================] - 13s 173ms/step - loss: 0.0011\n",
      "Epoch 56/100\n",
      "76/76 [==============================] - 13s 171ms/step - loss: 9.2487e-04\n",
      "Epoch 57/100\n",
      "76/76 [==============================] - 13s 170ms/step - loss: 0.0011\n",
      "Epoch 58/100\n",
      "76/76 [==============================] - 13s 172ms/step - loss: 9.4267e-04\n",
      "Epoch 59/100\n",
      "76/76 [==============================] - 13s 169ms/step - loss: 9.0605e-04\n",
      "Epoch 60/100\n",
      "76/76 [==============================] - 13s 169ms/step - loss: 8.9816e-04\n",
      "Epoch 61/100\n",
      "76/76 [==============================] - 13s 169ms/step - loss: 9.1025e-04\n",
      "Epoch 62/100\n",
      "76/76 [==============================] - 13s 168ms/step - loss: 9.0524e-04\n",
      "Epoch 63/100\n",
      "76/76 [==============================] - 13s 170ms/step - loss: 8.3450e-04\n",
      "Epoch 64/100\n",
      "76/76 [==============================] - 13s 168ms/step - loss: 8.8143e-04\n",
      "Epoch 65/100\n",
      "76/76 [==============================] - 13s 169ms/step - loss: 7.8554e-04\n",
      "Epoch 66/100\n",
      "76/76 [==============================] - 13s 169ms/step - loss: 7.8443e-04\n",
      "Epoch 67/100\n",
      "76/76 [==============================] - 13s 166ms/step - loss: 8.8966e-04\n",
      "Epoch 68/100\n",
      "76/76 [==============================] - 13s 166ms/step - loss: 8.2359e-04\n",
      "Epoch 69/100\n",
      "76/76 [==============================] - 13s 166ms/step - loss: 8.9919e-04\n",
      "Epoch 70/100\n",
      "76/76 [==============================] - 13s 168ms/step - loss: 8.7777e-04\n",
      "Epoch 71/100\n",
      "76/76 [==============================] - 12s 161ms/step - loss: 8.2028e-04\n",
      "Epoch 72/100\n",
      "76/76 [==============================] - 13s 171ms/step - loss: 7.8659e-04\n",
      "Epoch 73/100\n",
      "76/76 [==============================] - 13s 167ms/step - loss: 7.9970e-04\n",
      "Epoch 74/100\n",
      "76/76 [==============================] - 12s 161ms/step - loss: 8.3219e-04\n",
      "Epoch 75/100\n",
      "76/76 [==============================] - 12s 161ms/step - loss: 8.5892e-04\n",
      "Epoch 76/100\n",
      "76/76 [==============================] - 16s 206ms/step - loss: 8.4446e-04\n",
      "Epoch 77/100\n",
      "76/76 [==============================] - 14s 180ms/step - loss: 8.4756e-04\n",
      "Epoch 78/100\n",
      "76/76 [==============================] - 13s 168ms/step - loss: 8.4246e-04\n",
      "Epoch 79/100\n",
      "76/76 [==============================] - 12s 160ms/step - loss: 9.1187e-04\n",
      "Epoch 80/100\n",
      "76/76 [==============================] - 12s 160ms/step - loss: 8.4345e-04\n",
      "Epoch 81/100\n",
      "76/76 [==============================] - 12s 161ms/step - loss: 7.9139e-04\n",
      "Epoch 82/100\n",
      "76/76 [==============================] - 12s 158ms/step - loss: 8.1060e-04\n",
      "Epoch 83/100\n",
      "76/76 [==============================] - 12s 158ms/step - loss: 8.1719e-04\n",
      "Epoch 84/100\n",
      "76/76 [==============================] - 12s 158ms/step - loss: 7.7369e-04\n",
      "Epoch 85/100\n",
      "76/76 [==============================] - 12s 159ms/step - loss: 8.3031e-04\n",
      "Epoch 86/100\n",
      "76/76 [==============================] - 12s 158ms/step - loss: 8.6135e-04\n",
      "Epoch 87/100\n",
      "76/76 [==============================] - 12s 160ms/step - loss: 7.3988e-04\n",
      "Epoch 88/100\n",
      "76/76 [==============================] - 12s 161ms/step - loss: 8.7139e-04\n",
      "Epoch 89/100\n",
      "76/76 [==============================] - 12s 159ms/step - loss: 8.2764e-04\n",
      "Epoch 90/100\n",
      "76/76 [==============================] - 12s 159ms/step - loss: 6.8299e-04\n",
      "Epoch 91/100\n",
      "76/76 [==============================] - 12s 158ms/step - loss: 7.8355e-04\n",
      "Epoch 92/100\n",
      "76/76 [==============================] - 12s 158ms/step - loss: 7.9699e-04\n",
      "Epoch 93/100\n",
      "76/76 [==============================] - 12s 158ms/step - loss: 7.9382e-04\n",
      "Epoch 94/100\n",
      "76/76 [==============================] - 12s 158ms/step - loss: 7.0925e-04\n",
      "Epoch 95/100\n",
      "76/76 [==============================] - 12s 158ms/step - loss: 7.5335e-04\n",
      "Epoch 96/100\n"
     ]
    },
    {
     "name": "stdout",
     "output_type": "stream",
     "text": [
      "76/76 [==============================] - 12s 159ms/step - loss: 6.9077e-04\n",
      "Epoch 97/100\n",
      "76/76 [==============================] - 14s 180ms/step - loss: 7.0016e-04\n",
      "Epoch 98/100\n",
      "76/76 [==============================] - 13s 167ms/step - loss: 7.8554e-04\n",
      "Epoch 99/100\n",
      "76/76 [==============================] - 12s 158ms/step - loss: 7.4444e-04\n",
      "Epoch 100/100\n",
      "76/76 [==============================] - 12s 158ms/step - loss: 7.8024e-04\n"
     ]
    },
    {
     "data": {
      "text/plain": [
       "<tensorflow.python.keras.callbacks.History at 0x7f5990416430>"
      ]
     },
     "execution_count": 55,
     "metadata": {},
     "output_type": "execute_result"
    }
   ],
   "source": [
    "# Fitting the RNN to the Training set\n",
    "regressor.fit(X_train, y_train, epochs = 100, batch_size = 32)"
   ]
  },
  {
   "cell_type": "markdown",
   "metadata": {},
   "source": [
    "### Computing Predictions\n",
    "\n",
    "Create a data-frame by importing the Intel Stock Price Test set for July 2019 using pandas and make it a numpy array."
   ]
  },
  {
   "cell_type": "code",
   "execution_count": 86,
   "metadata": {},
   "outputs": [
    {
     "data": {
      "text/html": [
       "<div>\n",
       "<style scoped>\n",
       "    .dataframe tbody tr th:only-of-type {\n",
       "        vertical-align: middle;\n",
       "    }\n",
       "\n",
       "    .dataframe tbody tr th {\n",
       "        vertical-align: top;\n",
       "    }\n",
       "\n",
       "    .dataframe thead th {\n",
       "        text-align: right;\n",
       "    }\n",
       "</style>\n",
       "<table border=\"1\" class=\"dataframe\">\n",
       "  <thead>\n",
       "    <tr style=\"text-align: right;\">\n",
       "      <th></th>\n",
       "      <th>Date</th>\n",
       "      <th>Open</th>\n",
       "      <th>High</th>\n",
       "      <th>Low</th>\n",
       "      <th>Close</th>\n",
       "      <th>Adj Close</th>\n",
       "      <th>Volume</th>\n",
       "    </tr>\n",
       "  </thead>\n",
       "  <tbody>\n",
       "    <tr>\n",
       "      <th>0</th>\n",
       "      <td>2019-08-01</td>\n",
       "      <td>50.520000</td>\n",
       "      <td>51.889999</td>\n",
       "      <td>49.470001</td>\n",
       "      <td>49.500000</td>\n",
       "      <td>48.059563</td>\n",
       "      <td>34020800</td>\n",
       "    </tr>\n",
       "    <tr>\n",
       "      <th>1</th>\n",
       "      <td>2019-08-02</td>\n",
       "      <td>49.090000</td>\n",
       "      <td>49.360001</td>\n",
       "      <td>48.500000</td>\n",
       "      <td>48.680000</td>\n",
       "      <td>47.263428</td>\n",
       "      <td>27881600</td>\n",
       "    </tr>\n",
       "    <tr>\n",
       "      <th>2</th>\n",
       "      <td>2019-08-05</td>\n",
       "      <td>47.759998</td>\n",
       "      <td>47.959999</td>\n",
       "      <td>46.570000</td>\n",
       "      <td>46.970001</td>\n",
       "      <td>45.603188</td>\n",
       "      <td>38936600</td>\n",
       "    </tr>\n",
       "    <tr>\n",
       "      <th>3</th>\n",
       "      <td>2019-08-06</td>\n",
       "      <td>47.150002</td>\n",
       "      <td>47.560001</td>\n",
       "      <td>46.770000</td>\n",
       "      <td>46.959999</td>\n",
       "      <td>45.901310</td>\n",
       "      <td>26119600</td>\n",
       "    </tr>\n",
       "    <tr>\n",
       "      <th>4</th>\n",
       "      <td>2019-08-07</td>\n",
       "      <td>46.299999</td>\n",
       "      <td>46.880001</td>\n",
       "      <td>45.970001</td>\n",
       "      <td>46.730000</td>\n",
       "      <td>45.676498</td>\n",
       "      <td>29440400</td>\n",
       "    </tr>\n",
       "    <tr>\n",
       "      <th>5</th>\n",
       "      <td>2019-08-08</td>\n",
       "      <td>46.160000</td>\n",
       "      <td>47.369999</td>\n",
       "      <td>45.910000</td>\n",
       "      <td>47.169998</td>\n",
       "      <td>46.106575</td>\n",
       "      <td>30643700</td>\n",
       "    </tr>\n",
       "    <tr>\n",
       "      <th>6</th>\n",
       "      <td>2019-08-09</td>\n",
       "      <td>46.939999</td>\n",
       "      <td>47.000000</td>\n",
       "      <td>45.779999</td>\n",
       "      <td>45.980000</td>\n",
       "      <td>44.943405</td>\n",
       "      <td>24975500</td>\n",
       "    </tr>\n",
       "    <tr>\n",
       "      <th>7</th>\n",
       "      <td>2019-08-12</td>\n",
       "      <td>45.759998</td>\n",
       "      <td>46.070000</td>\n",
       "      <td>45.439999</td>\n",
       "      <td>45.599998</td>\n",
       "      <td>44.571964</td>\n",
       "      <td>18490300</td>\n",
       "    </tr>\n",
       "    <tr>\n",
       "      <th>8</th>\n",
       "      <td>2019-08-13</td>\n",
       "      <td>45.490002</td>\n",
       "      <td>47.049999</td>\n",
       "      <td>45.360001</td>\n",
       "      <td>46.840000</td>\n",
       "      <td>45.784016</td>\n",
       "      <td>28959500</td>\n",
       "    </tr>\n",
       "    <tr>\n",
       "      <th>9</th>\n",
       "      <td>2019-08-14</td>\n",
       "      <td>46.060001</td>\n",
       "      <td>46.630001</td>\n",
       "      <td>45.650002</td>\n",
       "      <td>45.869999</td>\n",
       "      <td>44.835884</td>\n",
       "      <td>25650200</td>\n",
       "    </tr>\n",
       "    <tr>\n",
       "      <th>10</th>\n",
       "      <td>2019-08-15</td>\n",
       "      <td>46.099998</td>\n",
       "      <td>46.180000</td>\n",
       "      <td>45.439999</td>\n",
       "      <td>45.700001</td>\n",
       "      <td>44.669716</td>\n",
       "      <td>21896000</td>\n",
       "    </tr>\n",
       "    <tr>\n",
       "      <th>11</th>\n",
       "      <td>2019-08-16</td>\n",
       "      <td>46.340000</td>\n",
       "      <td>46.680000</td>\n",
       "      <td>46.060001</td>\n",
       "      <td>46.500000</td>\n",
       "      <td>45.451683</td>\n",
       "      <td>22701800</td>\n",
       "    </tr>\n",
       "    <tr>\n",
       "      <th>12</th>\n",
       "      <td>2019-08-19</td>\n",
       "      <td>47.459999</td>\n",
       "      <td>47.599998</td>\n",
       "      <td>47.040001</td>\n",
       "      <td>47.230000</td>\n",
       "      <td>46.165222</td>\n",
       "      <td>21403600</td>\n",
       "    </tr>\n",
       "    <tr>\n",
       "      <th>13</th>\n",
       "      <td>2019-08-20</td>\n",
       "      <td>47.029999</td>\n",
       "      <td>47.119999</td>\n",
       "      <td>46.459999</td>\n",
       "      <td>46.599998</td>\n",
       "      <td>45.549427</td>\n",
       "      <td>23113300</td>\n",
       "    </tr>\n",
       "    <tr>\n",
       "      <th>14</th>\n",
       "      <td>2019-08-21</td>\n",
       "      <td>47.110001</td>\n",
       "      <td>47.290001</td>\n",
       "      <td>46.889999</td>\n",
       "      <td>47.150002</td>\n",
       "      <td>46.087029</td>\n",
       "      <td>15915000</td>\n",
       "    </tr>\n",
       "    <tr>\n",
       "      <th>15</th>\n",
       "      <td>2019-08-22</td>\n",
       "      <td>47.279999</td>\n",
       "      <td>47.430000</td>\n",
       "      <td>46.689999</td>\n",
       "      <td>46.779999</td>\n",
       "      <td>45.725368</td>\n",
       "      <td>19783000</td>\n",
       "    </tr>\n",
       "    <tr>\n",
       "      <th>16</th>\n",
       "      <td>2019-08-23</td>\n",
       "      <td>46.349998</td>\n",
       "      <td>46.630001</td>\n",
       "      <td>44.799999</td>\n",
       "      <td>44.959999</td>\n",
       "      <td>43.946400</td>\n",
       "      <td>32814000</td>\n",
       "    </tr>\n",
       "    <tr>\n",
       "      <th>17</th>\n",
       "      <td>2019-08-26</td>\n",
       "      <td>45.820000</td>\n",
       "      <td>45.820000</td>\n",
       "      <td>45.250000</td>\n",
       "      <td>45.560001</td>\n",
       "      <td>44.532875</td>\n",
       "      <td>22080500</td>\n",
       "    </tr>\n",
       "    <tr>\n",
       "      <th>18</th>\n",
       "      <td>2019-08-27</td>\n",
       "      <td>45.869999</td>\n",
       "      <td>46.119999</td>\n",
       "      <td>45.500000</td>\n",
       "      <td>45.790001</td>\n",
       "      <td>44.757687</td>\n",
       "      <td>16925500</td>\n",
       "    </tr>\n",
       "    <tr>\n",
       "      <th>19</th>\n",
       "      <td>2019-08-28</td>\n",
       "      <td>45.700001</td>\n",
       "      <td>45.910000</td>\n",
       "      <td>45.369999</td>\n",
       "      <td>45.790001</td>\n",
       "      <td>44.757687</td>\n",
       "      <td>14888800</td>\n",
       "    </tr>\n",
       "    <tr>\n",
       "      <th>20</th>\n",
       "      <td>2019-08-29</td>\n",
       "      <td>46.459999</td>\n",
       "      <td>47.220001</td>\n",
       "      <td>46.400002</td>\n",
       "      <td>46.869999</td>\n",
       "      <td>45.813339</td>\n",
       "      <td>17803800</td>\n",
       "    </tr>\n",
       "    <tr>\n",
       "      <th>21</th>\n",
       "      <td>2019-08-30</td>\n",
       "      <td>47.240002</td>\n",
       "      <td>47.790001</td>\n",
       "      <td>47.160000</td>\n",
       "      <td>47.410000</td>\n",
       "      <td>46.341164</td>\n",
       "      <td>16922600</td>\n",
       "    </tr>\n",
       "  </tbody>\n",
       "</table>\n",
       "</div>"
      ],
      "text/plain": [
       "          Date       Open       High        Low      Close  Adj Close  \\\n",
       "0   2019-08-01  50.520000  51.889999  49.470001  49.500000  48.059563   \n",
       "1   2019-08-02  49.090000  49.360001  48.500000  48.680000  47.263428   \n",
       "2   2019-08-05  47.759998  47.959999  46.570000  46.970001  45.603188   \n",
       "3   2019-08-06  47.150002  47.560001  46.770000  46.959999  45.901310   \n",
       "4   2019-08-07  46.299999  46.880001  45.970001  46.730000  45.676498   \n",
       "5   2019-08-08  46.160000  47.369999  45.910000  47.169998  46.106575   \n",
       "6   2019-08-09  46.939999  47.000000  45.779999  45.980000  44.943405   \n",
       "7   2019-08-12  45.759998  46.070000  45.439999  45.599998  44.571964   \n",
       "8   2019-08-13  45.490002  47.049999  45.360001  46.840000  45.784016   \n",
       "9   2019-08-14  46.060001  46.630001  45.650002  45.869999  44.835884   \n",
       "10  2019-08-15  46.099998  46.180000  45.439999  45.700001  44.669716   \n",
       "11  2019-08-16  46.340000  46.680000  46.060001  46.500000  45.451683   \n",
       "12  2019-08-19  47.459999  47.599998  47.040001  47.230000  46.165222   \n",
       "13  2019-08-20  47.029999  47.119999  46.459999  46.599998  45.549427   \n",
       "14  2019-08-21  47.110001  47.290001  46.889999  47.150002  46.087029   \n",
       "15  2019-08-22  47.279999  47.430000  46.689999  46.779999  45.725368   \n",
       "16  2019-08-23  46.349998  46.630001  44.799999  44.959999  43.946400   \n",
       "17  2019-08-26  45.820000  45.820000  45.250000  45.560001  44.532875   \n",
       "18  2019-08-27  45.869999  46.119999  45.500000  45.790001  44.757687   \n",
       "19  2019-08-28  45.700001  45.910000  45.369999  45.790001  44.757687   \n",
       "20  2019-08-29  46.459999  47.220001  46.400002  46.869999  45.813339   \n",
       "21  2019-08-30  47.240002  47.790001  47.160000  47.410000  46.341164   \n",
       "\n",
       "      Volume  \n",
       "0   34020800  \n",
       "1   27881600  \n",
       "2   38936600  \n",
       "3   26119600  \n",
       "4   29440400  \n",
       "5   30643700  \n",
       "6   24975500  \n",
       "7   18490300  \n",
       "8   28959500  \n",
       "9   25650200  \n",
       "10  21896000  \n",
       "11  22701800  \n",
       "12  21403600  \n",
       "13  23113300  \n",
       "14  15915000  \n",
       "15  19783000  \n",
       "16  32814000  \n",
       "17  22080500  \n",
       "18  16925500  \n",
       "19  14888800  \n",
       "20  17803800  \n",
       "21  16922600  "
      ]
     },
     "execution_count": 86,
     "metadata": {},
     "output_type": "execute_result"
    }
   ],
   "source": [
    "# Getting the real stock price for July 1st 2019 - \n",
    "# July 31st 2019\n",
    "\n",
    "dataset_test = pd.read_csv('Intel_Stock_Price_Test.csv')\n",
    "dataset_test"
   ]
  },
  {
   "cell_type": "code",
   "execution_count": 87,
   "metadata": {},
   "outputs": [
    {
     "data": {
      "text/plain": [
       "22"
      ]
     },
     "execution_count": 87,
     "metadata": {},
     "output_type": "execute_result"
    }
   ],
   "source": [
    "real_stock_price = dataset_test.iloc[:, 1:2].values\n",
    "real_stock_price.size"
   ]
  },
  {
   "cell_type": "code",
   "execution_count": 99,
   "metadata": {},
   "outputs": [
    {
     "data": {
      "text/plain": [
       "array([[50.52    ],\n",
       "       [49.09    ],\n",
       "       [47.759998],\n",
       "       [47.150002],\n",
       "       [46.299999],\n",
       "       [46.16    ],\n",
       "       [46.939999],\n",
       "       [45.759998],\n",
       "       [45.490002],\n",
       "       [46.060001],\n",
       "       [46.099998],\n",
       "       [46.34    ],\n",
       "       [47.459999],\n",
       "       [47.029999],\n",
       "       [47.110001],\n",
       "       [47.279999],\n",
       "       [46.349998],\n",
       "       [45.82    ],\n",
       "       [45.869999],\n",
       "       [45.700001],\n",
       "       [46.459999],\n",
       "       [47.240002]])"
      ]
     },
     "execution_count": 99,
     "metadata": {},
     "output_type": "execute_result"
    }
   ],
   "source": [
    "real_stock_price"
   ]
  },
  {
   "cell_type": "markdown",
   "metadata": {},
   "source": [
    "To predict the stock price value for each day in July 2019, we need the values in the last 90 days.\n",
    "\n",
    "To obtain this **history** we need to combine both the training and test sets in one.\n",
    "\n",
    "If we were to use the training_set and test_set we would need to use the scaler  but that would change the actual test values.  Thus concatenate the original data frames!\n"
   ]
  },
  {
   "cell_type": "code",
   "execution_count": 100,
   "metadata": {},
   "outputs": [],
   "source": [
    "# Getting the predicted stock price of 2019\n",
    "\n",
    "# axis = 0 means concatenate the lines (i.e. vertical axis)\n",
    "dataset_total = pd.concat((dataset_train['Open'], dataset_test['Open']), axis = 0) "
   ]
  },
  {
   "cell_type": "code",
   "execution_count": 101,
   "metadata": {},
   "outputs": [
    {
     "data": {
      "text/plain": [
       "2538"
      ]
     },
     "execution_count": 101,
     "metadata": {},
     "output_type": "execute_result"
    }
   ],
   "source": [
    "dataset_total.size\n"
   ]
  },
  {
   "cell_type": "code",
   "execution_count": 102,
   "metadata": {},
   "outputs": [],
   "source": [
    "# the difference in the length of the first two gives us \n",
    "# the first day in 2019, and we need to go back 90 days to get the necessary range\n",
    "inputs = dataset_total[len(dataset_total) - len(dataset_test) - 90:].values"
   ]
  },
  {
   "cell_type": "code",
   "execution_count": 103,
   "metadata": {},
   "outputs": [
    {
     "data": {
      "text/plain": [
       "112"
      ]
     },
     "execution_count": 103,
     "metadata": {},
     "output_type": "execute_result"
    }
   ],
   "source": [
    "inputs.size"
   ]
  },
  {
   "cell_type": "code",
   "execution_count": 104,
   "metadata": {},
   "outputs": [],
   "source": [
    "# we did not use iloc from panda so lets reshape the numpy array for \n",
    "# compatibility: i.e. all the values from input lines to be stacked in one \n",
    "# column. The -1 means that the numpy has no knowledge of how the \n",
    "# values were stored in lines. The 1 means we want to them in one \n",
    "# column.\n",
    "\n",
    "inputs = inputs.reshape(-1,1) \n",
    "\n",
    "# apply the feature scaler\n",
    "inputs = sc.transform(inputs)"
   ]
  },
  {
   "cell_type": "code",
   "execution_count": 105,
   "metadata": {},
   "outputs": [],
   "source": [
    "# Getting the predicted stock price of 2019\n",
    "X_test = []"
   ]
  },
  {
   "cell_type": "code",
   "execution_count": 106,
   "metadata": {},
   "outputs": [],
   "source": [
    "# the first 90 from inputs are from training set; start \n",
    "# from 90 and get the extra 20, i.e. up to 112\n",
    "for i in range(90, 112): \n",
    "    X_test.append(inputs[i-90:i, 0])\n"
   ]
  },
  {
   "cell_type": "code",
   "execution_count": 107,
   "metadata": {},
   "outputs": [],
   "source": [
    "X_test = np.array(X_test) # not 3D structure yet"
   ]
  },
  {
   "cell_type": "code",
   "execution_count": 108,
   "metadata": {},
   "outputs": [],
   "source": [
    "# create a 3D structure\n",
    "X_test = np.reshape(X_test, (X_test.shape[0], X_test.shape[1], 1))"
   ]
  },
  {
   "cell_type": "code",
   "execution_count": 109,
   "metadata": {},
   "outputs": [],
   "source": [
    "predicted_stock_price = regressor.predict(X_test)"
   ]
  },
  {
   "cell_type": "code",
   "execution_count": 110,
   "metadata": {},
   "outputs": [
    {
     "data": {
      "text/plain": [
       "22"
      ]
     },
     "execution_count": 110,
     "metadata": {},
     "output_type": "execute_result"
    }
   ],
   "source": [
    "# need to inverse the scaling to get meaningful predicted stock price # outputs\n",
    "predicted_stock_price = sc.inverse_transform(predicted_stock_price) \n",
    "predicted_stock_price.size"
   ]
  },
  {
   "cell_type": "markdown",
   "metadata": {},
   "source": [
    "### Result Visualization\n"
   ]
  },
  {
   "cell_type": "code",
   "execution_count": 111,
   "metadata": {},
   "outputs": [
    {
     "data": {
      "image/png": "[encoded data removed]",
      "text/plain": [
       "<Figure size 432x288 with 1 Axes>"
      ]
     },
     "metadata": {
      "needs_background": "light"
     },
     "output_type": "display_data"
    }
   ],
   "source": [
    "# Visualising the results\n",
    "\n",
    "plt.plot(real_stock_price, color = 'red', label = 'Real Intel Stock Price')\n",
    "\n",
    "plt.plot(predicted_stock_price, color = 'blue', label = 'Predicted Intel Stock Price')\n",
    "\n",
    "plt.title('Intel Stock Price Prediction')\n",
    "plt.xlabel('Time')\n",
    "plt.ylabel('Intel Stock Price')\n",
    "plt.legend()\n",
    "\n",
    "plt.show()"
   ]
  },
  {
   "cell_type": "markdown",
   "metadata": {},
   "source": [
    "The blue line shows the trend of the stock for the month of July 2019. \n",
    "\n",
    "Some observations:\n",
    "- The prediction lags behind the actual price curve because the model cannot react to fast non-linear changes. Spikes are examples of fast non-linear changes\n",
    "- Model reacts pretty well to smooth changes"
   ]
  },
  {
   "cell_type": "markdown",
   "metadata": {},
   "source": [
    "### Compute the RMSE\n",
    "\n",
    "If we need to compute the RMSE for our Stock Price Prediction problem, we use the real stock price and predicted stock price as shown.\n",
    "\n",
    "Then consider dividing this RMSE by the range of the Intel Stock Price values of July 2019 to get a relative error, as opposed to an absolute error. \n"
   ]
  },
  {
   "cell_type": "code",
   "execution_count": 112,
   "metadata": {},
   "outputs": [],
   "source": [
    "#import the libraries\n",
    "import math\n",
    "from sklearn.metrics import mean_squared_error"
   ]
  },
  {
   "cell_type": "code",
   "execution_count": 114,
   "metadata": {},
   "outputs": [
    {
     "data": {
      "text/plain": [
       "1.086899795564367"
      ]
     },
     "execution_count": 114,
     "metadata": {},
     "output_type": "execute_result"
    }
   ],
   "source": [
    "rmse = math.sqrt( mean_squared_error( real_stock_price[0:22,:], predicted_stock_price))\n",
    "rmse"
   ]
  },
  {
   "cell_type": "code",
   "execution_count": null,
   "metadata": {},
   "outputs": [],
   "source": []
  }
 ],
 "metadata": {
  "kernelspec": {
   "display_name": "Python 3",
   "language": "python",
   "name": "python3"
  },
  "language_info": {
   "codemirror_mode": {
    "name": "ipython",
    "version": 3
   },
   "file_extension": ".py",
   "mimetype": "text/x-python",
   "name": "python",
   "nbconvert_exporter": "python",
   "pygments_lexer": "ipython3",
   "version": "3.8.5"
  }
 },
 "nbformat": 4,
 "nbformat_minor": 2
}
